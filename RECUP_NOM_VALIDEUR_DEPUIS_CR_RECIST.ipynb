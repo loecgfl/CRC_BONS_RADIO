{
 "cells": [
  {
   "cell_type": "markdown",
   "id": "89f58513",
   "metadata": {},
   "source": [
    "# <span style='color:SteelBlue'>CRC - BONS RADIO SCANNER / IRM / ARC</span>"
   ]
  },
  {
   "cell_type": "markdown",
   "id": "1719d1b5",
   "metadata": {},
   "source": [
    "## <span style='background:Thistle'>Sommaire du notebook</span> "
   ]
  },
  {
   "cell_type": "markdown",
   "id": "4282c791",
   "metadata": {},
   "source": [
    "**BUT**\n",
    "*****\n",
    "- **Récupérer les valideurs** depuis le document pdf du CR RECIST."
   ]
  },
  {
   "cell_type": "markdown",
   "id": "7ceffe46",
   "metadata": {},
   "source": [
    "✅ Objectif :\n",
    "- Parcourir tous les fichiers .pdf dans un dossier.\n",
    "- Extraire le texte après Validé par jusqu’à la fin de la ligne.\n",
    "- Enregistrer les résultats dans un DataFrame ou un fichier .csv."
   ]
  },
  {
   "cell_type": "code",
   "execution_count": 4,
   "id": "3d9ebd4e",
   "metadata": {},
   "outputs": [
    {
     "name": "stdout",
     "output_type": "stream",
     "text": [
      "Defaulting to user installation because normal site-packages is not writeable\n"
     ]
    },
    {
     "name": "stderr",
     "output_type": "stream",
     "text": [
      "WARNING: Retrying (Retry(total=4, connect=None, read=None, redirect=None, status=None)) after connection broken by 'ConnectTimeoutError(<pip._vendor.urllib3.connection.HTTPSConnection object at 0x0000020D246AA110>, 'Connection to pypi.org timed out. (connect timeout=15)')': /simple/pymupdf/\n",
      "WARNING: Retrying (Retry(total=3, connect=None, read=None, redirect=None, status=None)) after connection broken by 'ConnectTimeoutError(<pip._vendor.urllib3.connection.HTTPSConnection object at 0x0000020D24FB3950>, 'Connection to pypi.org timed out. (connect timeout=15)')': /simple/pymupdf/\n",
      "WARNING: Retrying (Retry(total=2, connect=None, read=None, redirect=None, status=None)) after connection broken by 'ConnectTimeoutError(<pip._vendor.urllib3.connection.HTTPSConnection object at 0x0000020D24FCE2D0>, 'Connection to pypi.org timed out. (connect timeout=15)')': /simple/pymupdf/\n",
      "WARNING: Retrying (Retry(total=1, connect=None, read=None, redirect=None, status=None)) after connection broken by 'ConnectTimeoutError(<pip._vendor.urllib3.connection.HTTPSConnection object at 0x0000020D24FCFB10>, 'Connection to pypi.org timed out. (connect timeout=15)')': /simple/pymupdf/\n",
      "WARNING: Retrying (Retry(total=0, connect=None, read=None, redirect=None, status=None)) after connection broken by 'ConnectTimeoutError(<pip._vendor.urllib3.connection.HTTPSConnection object at 0x0000020D24FCFE50>, 'Connection to pypi.org timed out. (connect timeout=15)')': /simple/pymupdf/\n",
      "ERROR: Could not find a version that satisfies the requirement pymupdf (from versions: none)\n",
      "ERROR: No matching distribution found for pymupdf\n"
     ]
    }
   ],
   "source": [
    "!pip install pymupdf"
   ]
  },
  {
   "cell_type": "code",
   "execution_count": 3,
   "id": "1458e3a8",
   "metadata": {},
   "outputs": [
    {
     "ename": "ModuleNotFoundError",
     "evalue": "No module named 'fitz'",
     "output_type": "error",
     "traceback": [
      "\u001b[1;31m---------------------------------------------------------------------------\u001b[0m",
      "\u001b[1;31mModuleNotFoundError\u001b[0m                       Traceback (most recent call last)",
      "Cell \u001b[1;32mIn[3], line 2\u001b[0m\n\u001b[0;32m      1\u001b[0m \u001b[38;5;66;03m# Chargement des librairies\u001b[39;00m\n\u001b[1;32m----> 2\u001b[0m \u001b[38;5;28;01mimport\u001b[39;00m \u001b[38;5;21;01mfitz\u001b[39;00m  \u001b[38;5;66;03m# PyMuPDF\u001b[39;00m\n\u001b[0;32m      3\u001b[0m \u001b[38;5;28;01mimport\u001b[39;00m \u001b[38;5;21;01mos\u001b[39;00m\n\u001b[0;32m      4\u001b[0m \u001b[38;5;28;01mimport\u001b[39;00m \u001b[38;5;21;01mpandas\u001b[39;00m \u001b[38;5;28;01mas\u001b[39;00m \u001b[38;5;21;01mpd\u001b[39;00m\n",
      "\u001b[1;31mModuleNotFoundError\u001b[0m: No module named 'fitz'"
     ]
    }
   ],
   "source": [
    "# Chargement des librairies\n",
    "import fitz  # PyMuPDF\n",
    "import re\n",
    "import os\n",
    "import pandas as pd"
   ]
  },
  {
   "cell_type": "code",
   "execution_count": null,
   "id": "a1257113",
   "metadata": {},
   "outputs": [],
   "source": [
    "# Liste des documents\n",
    "pdf_paths = [\n",
    "    r\"\\\\CIFS1\\GDD$\\Clinicomshared\\DOC2023_4\\MD6273215.PDF\",\n",
    "    r\"\\\\CIFS1\\GDD$\\Clinicomshared\\DOC2023_4\\MD6273215.PDF\",\n",
    "    r\"\\\\CIFS1\\GDD$\\Clinicomshared\\DOC2023_4\\MD6366671.PDF\",\n",
    "    r\"\\\\CIFS1\\GDD$\\Clinicomshared\\DOC2023_4\\MD6117397.PDF\"\n",
    "    r\"\"\n",
    "    r\"\"\n",
    "    # ...\n",
    "]"
   ]
  },
  {
   "cell_type": "code",
   "execution_count": null,
   "id": "0c4a1893",
   "metadata": {},
   "outputs": [],
   "source": [
    "\\\\CIFS1\\GDD$\\Clinicomshared\\DOC2023_4\\MD6273215.PDF\n",
    "\\\\CIFS1\\GDD$\\Clinicomshared\\DOC2023_4\\MD6273215.PDF\n",
    "\n",
    "\\\\CIFS1\\GDD$\\Clinicomshared\\DOC2023_4\\MD6366671.PDF\n",
    "\\\\CIFS1\\GDD$\\Clinicomshared\\DOC2023_4\\MD6117397.PDF\n"
   ]
  },
  {
   "cell_type": "code",
   "execution_count": null,
   "id": "bc6a3e3c",
   "metadata": {},
   "outputs": [],
   "source": []
  },
  {
   "cell_type": "code",
   "execution_count": null,
   "id": "4c4cea85",
   "metadata": {},
   "outputs": [],
   "source": []
  },
  {
   "cell_type": "code",
   "execution_count": null,
   "id": "20eea7c5",
   "metadata": {},
   "outputs": [],
   "source": []
  }
 ],
 "metadata": {
  "kernelspec": {
   "display_name": "Python 3 (ipykernel)",
   "language": "python",
   "name": "python3"
  },
  "language_info": {
   "codemirror_mode": {
    "name": "ipython",
    "version": 3
   },
   "file_extension": ".py",
   "mimetype": "text/x-python",
   "name": "python",
   "nbconvert_exporter": "python",
   "pygments_lexer": "ipython3",
   "version": "3.11.5"
  }
 },
 "nbformat": 4,
 "nbformat_minor": 5
}
