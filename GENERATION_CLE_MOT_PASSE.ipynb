{
 "cells": [
  {
   "cell_type": "markdown",
   "id": "ad8d10e2",
   "metadata": {},
   "source": [
    "# <span style='color:SteelBlue'>CRC - BONS RADIO SCANNER / IRM / ARC</span>"
   ]
  },
  {
   "cell_type": "markdown",
   "id": "4b910445",
   "metadata": {},
   "source": [
    "# <span style='color:SteelBlue'>GENERATION MOT DE PASSE CRYPTE</span>"
   ]
  },
  {
   "cell_type": "code",
   "execution_count": 1,
   "id": "b816f90d",
   "metadata": {},
   "outputs": [],
   "source": [
    "# Chargement des librairies\n",
    "from cryptography.fernet import Fernet"
   ]
  },
  {
   "cell_type": "code",
   "execution_count": 2,
   "id": "615c3db7",
   "metadata": {},
   "outputs": [
    {
     "name": "stdout",
     "output_type": "stream",
     "text": [
      "Clé secrète : Co6g50Kt3KyY-A6LxxsMV_Hty_h7znEvMUfeeOc4pYQ=\n"
     ]
    }
   ],
   "source": [
    "# Génération d'une clé de chiffrement\n",
    "key = Fernet.generate_key()\n",
    "print(\"Clé secrète :\", key.decode())"
   ]
  },
  {
   "cell_type": "code",
   "execution_count": null,
   "id": "6d41171b",
   "metadata": {},
   "outputs": [],
   "source": [
    "# CLé = # Co6g50Kt3KyY-A6LxxsMV_Hty_h7znEvMUfeeOc4pYQ="
   ]
  },
  {
   "cell_type": "code",
   "execution_count": 3,
   "id": "c8c3216d",
   "metadata": {},
   "outputs": [],
   "source": [
    "# Chiffrement du mot de passe\n",
    "key = b'Co6g50Kt3KyY-A6LxxsMV_Hty_h7znEvMUfeeOc4pYQ=' \n",
    "fernet = Fernet(key)"
   ]
  },
  {
   "cell_type": "code",
   "execution_count": 4,
   "id": "864f13cf",
   "metadata": {},
   "outputs": [
    {
     "name": "stdout",
     "output_type": "stream",
     "text": [
      "Mot de passe chiffré : gAAAAABoSVR-4b41eoRkajpi0wfryVBK_K3dMKXejkp4uTht7ClnLPNFQZXS7ivcuEkZDP8FW47uuPtWe1nwvtkQ4D5kB9e0fA==\n"
     ]
    }
   ],
   "source": [
    "mot_de_passe = \"Bourbier2025\"\n",
    "mot_de_passe_crypte = fernet.encrypt(mot_de_passe.encode())\n",
    "print(\"Mot de passe chiffré :\", mot_de_passe_crypte.decode())"
   ]
  },
  {
   "cell_type": "code",
   "execution_count": null,
   "id": "a629d7d6",
   "metadata": {},
   "outputs": [],
   "source": []
  },
  {
   "cell_type": "code",
   "execution_count": null,
   "id": "5880537d",
   "metadata": {},
   "outputs": [],
   "source": []
  },
  {
   "cell_type": "code",
   "execution_count": null,
   "id": "2662d5eb",
   "metadata": {},
   "outputs": [],
   "source": []
  }
 ],
 "metadata": {
  "kernelspec": {
   "display_name": "Python 3 (ipykernel)",
   "language": "python",
   "name": "python3"
  },
  "language_info": {
   "codemirror_mode": {
    "name": "ipython",
    "version": 3
   },
   "file_extension": ".py",
   "mimetype": "text/x-python",
   "name": "python",
   "nbconvert_exporter": "python",
   "pygments_lexer": "ipython3",
   "version": "3.11.5"
  }
 },
 "nbformat": 4,
 "nbformat_minor": 5
}
